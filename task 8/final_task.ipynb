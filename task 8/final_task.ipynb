{
 "cells": [
  {
   "cell_type": "code",
   "execution_count": 43,
   "id": "13d131fa-d5e8-49bd-9dce-d1925b414478",
   "metadata": {},
   "outputs": [],
   "source": [
    "# Импортируем библиотеки\n",
    "import numpy as np\n",
    "import pandas as pd\n",
    "import matplotlib.pyplot as plt\n",
    "from sklearn.linear_model import LogisticRegression\n",
    "from sklearn.metrics import accuracy_score\n",
    "from sklearn.model_selection import train_test_split\n",
    "from sklearn.preprocessing import StandardScaler\n",
    "from utils import *"
   ]
  },
  {
   "cell_type": "markdown",
   "id": "e2532ac3-3dc9-4cb9-b8dd-66af7c965498",
   "metadata": {},
   "source": [
    "\n",
    "В рамках данной работы рассматривается набор данных, содержащий транзакции по кредитным картам, совершенные европейскими держателями карт в 2023 году. \n",
    "Датасет содержит более 550 000 записей, и данные были анонимизированы для защиты личности владельцев карт. \n",
    "Состав данных:\n",
    "* id: Уникальный идентификатор для каждой транзакции\n",
    "* V1 - V28: Анонимизированные функции, представляющие различные атрибуты транзакции (например, время, местоположение и т.д.)\n",
    "* Amount: Сумма транзакции\n",
    "* Class: Двоичная метка, указывающая, является ли транзакция мошеннической (1) или нет (0)\n",
    "\n",
    "Далее представлен код, который обучается определять мошеннические транзакции с помощью логистической регрессии."
   ]
  },
  {
   "cell_type": "code",
   "execution_count": 21,
   "id": "3e5d6d6f-45da-4884-8c94-7529726c9530",
   "metadata": {},
   "outputs": [],
   "source": [
    "# Загружаем данные\n",
    "data = pd.read_csv('creditcard_2023.csv')\n",
    "y = data.Class\n",
    "X = data.drop(['id', 'Class'], axis=1)"
   ]
  },
  {
   "cell_type": "code",
   "execution_count": 34,
   "id": "80ff59e8-a0af-4b0a-8b2b-0dd893551726",
   "metadata": {},
   "outputs": [
    {
     "name": "stdout",
     "output_type": "stream",
     "text": [
      "First five elements in X are:\n",
      "          V1        V2        V3        V4        V5        V6        V7  \\\n",
      "0 -0.260648 -0.469648  2.496266 -0.083724  0.129681  0.732898  0.519014   \n",
      "1  0.985100 -0.356045  0.558056 -0.429654  0.277140  0.428605  0.406466   \n",
      "2 -0.260272 -0.949385  1.728538 -0.457986  0.074062  1.419481  0.743511   \n",
      "3 -0.152152 -0.508959  1.746840 -1.090178  0.249486  1.143312  0.518269   \n",
      "4 -0.206820 -0.165280  1.527053 -0.448293  0.106125  0.530549  0.658849   \n",
      "\n",
      "         V8        V9       V10  ...       V20       V21       V22       V23  \\\n",
      "0 -0.130006  0.727159  0.637735  ...  0.091202 -0.110552  0.217606 -0.134794   \n",
      "1 -0.133118  0.347452  0.529808  ... -0.233984 -0.194936 -0.605761  0.079469   \n",
      "2 -0.095576 -0.261297  0.690708  ...  0.361652 -0.005020  0.702906  0.945045   \n",
      "3 -0.065130 -0.205698  0.575231  ... -0.378223 -0.146927 -0.038212 -0.214048   \n",
      "4 -0.212660  1.049921  0.968046  ...  0.247237 -0.106984  0.729727 -0.161666   \n",
      "\n",
      "        V24       V25       V26       V27       V28    Amount  \n",
      "0  0.165959  0.126280 -0.434824 -0.081230 -0.151045  17982.10  \n",
      "1 -0.577395  0.190090  0.296503 -0.248052 -0.064512   6531.37  \n",
      "2 -1.154666 -0.605564 -0.312895 -0.300258 -0.244718   2513.54  \n",
      "3 -1.893131  1.003963 -0.515950 -0.165316  0.048424   5384.44  \n",
      "4  0.312561 -0.414116  1.071126  0.023712  0.419117  14278.97  \n",
      "\n",
      "[5 rows x 29 columns]\n",
      "First five elements in y are:\n",
      " 0    0\n",
      "1    0\n",
      "2    0\n",
      "3    0\n",
      "4    0\n",
      "Name: Class, dtype: int64\n",
      "<class 'pandas.core.frame.DataFrame'>\n"
     ]
    }
   ],
   "source": [
    "print(\"First five elements in X are:\\n\", X[:5])\n",
    "print(\"First five elements in y are:\\n\", y[:5])"
   ]
  },
  {
   "cell_type": "code",
   "execution_count": 24,
   "id": "8fbf4d7f-63b0-4484-a6dc-7c0ace6f017e",
   "metadata": {},
   "outputs": [
    {
     "name": "stdout",
     "output_type": "stream",
     "text": [
      "The shape of X is: (568630, 29)\n",
      "The shape of y is: (568630,)\n"
     ]
    }
   ],
   "source": [
    "print ('The shape of X is:', X.shape)\n",
    "print ('The shape of y is:', y.shape)"
   ]
  },
  {
   "cell_type": "code",
   "execution_count": 58,
   "id": "dbd98112-0be7-49ca-b30e-b59c9f0dc1ac",
   "metadata": {},
   "outputs": [],
   "source": [
    "# Разделяем данные на тренировочную и тестовую выборки\n",
    "X_train, X_test, y_train, y_test = train_test_split(X, y, test_size = 0.2, random_state = 5, stratify = y)"
   ]
  },
  {
   "cell_type": "code",
   "execution_count": 59,
   "id": "92e0099e-5329-4a6b-82c4-6d039323a163",
   "metadata": {},
   "outputs": [
    {
     "name": "stdout",
     "output_type": "stream",
     "text": [
      "First five elements in X_train are:\n",
      "               V1        V2        V3        V4        V5        V6        V7  \\\n",
      "285638  0.727548  0.424131 -0.642807  0.749707  2.122255 -0.538272  0.554432   \n",
      "388553 -1.222997  0.954118 -1.063489  1.616556 -1.428299 -1.043515 -1.567217   \n",
      "153929  0.006284 -0.012152  2.720972  0.806653  0.441175  1.251123  0.373764   \n",
      "392282 -0.793205  0.231267 -0.642259  0.280131 -0.151193 -0.757129 -0.360637   \n",
      "531702 -0.383284 -0.488671 -0.166684  0.368899 -0.640173  0.482760  0.569090   \n",
      "\n",
      "              V8        V9       V10  ...       V20       V21       V22  \\\n",
      "285638 -0.562439 -0.376224  0.089783  ... -0.433826  0.252616 -0.649114   \n",
      "388553  1.124442 -2.044436 -1.708163  ...  0.517828  0.763684  0.404135   \n",
      "153929 -0.087109  0.065541  1.091909  ...  0.139945 -0.066813  0.553472   \n",
      "392282 -0.265159  0.732575 -0.642636  ... -0.657929  0.309793  0.180536   \n",
      "531702 -0.025768 -0.551258 -0.314361  ...  1.637026  0.258623  0.132643   \n",
      "\n",
      "             V23       V24       V25       V26       V27       V28    Amount  \n",
      "285638 -0.406169 -1.818443 -2.331607 -0.294500  0.008337  0.248954  17647.37  \n",
      "388553 -0.014816  1.357564  0.161511  0.669538  1.518583  0.531787  13026.75  \n",
      "153929 -0.445540 -0.600861  0.264938  1.181499 -0.121186  0.097562  23676.29  \n",
      "392282  0.153673  0.796970 -0.214850 -1.254407 -1.344838  2.703451  19217.05  \n",
      "531702  1.519672  0.679514 -0.025991  1.223979 -0.049464  0.454331  20560.60  \n",
      "\n",
      "[5 rows x 29 columns]\n",
      "First five elements in y_train are:\n",
      " 285638    1\n",
      "388553    1\n",
      "153929    0\n",
      "392282    1\n",
      "531702    1\n",
      "Name: Class, dtype: int64\n",
      "The shape of X_train is: (454904, 29)\n",
      "The shape of y_train is: (454904,)\n"
     ]
    }
   ],
   "source": [
    "print(\"First five elements in X_train are:\\n\", X_train[:5])\n",
    "print(\"First five elements in y_train are:\\n\", y_train[:5])\n",
    "print ('The shape of X_train is:', X_train.shape)\n",
    "print ('The shape of y_train is:', y_train.shape)"
   ]
  },
  {
   "cell_type": "code",
   "execution_count": 60,
   "id": "bcc39cd2-b7ff-4ebd-8e4c-e2f976c985eb",
   "metadata": {},
   "outputs": [
    {
     "name": "stdout",
     "output_type": "stream",
     "text": [
      "First five elements in X_test are:\n",
      "               V1        V2        V3        V4        V5        V6        V7  \\\n",
      "247376  1.903854 -0.981229  0.428734 -1.032850 -0.164580  0.869894 -0.052621   \n",
      "38978  -0.277321 -0.338258  0.487382 -0.834080  0.194448  0.483250  0.811506   \n",
      "160096  1.811675 -0.514607 -0.061982 -0.643279  0.406468  0.273728  0.415609   \n",
      "85290  -0.194142 -0.231422  0.813413 -1.397797  0.605906  0.242504  0.835924   \n",
      "145287 -0.505881  0.153800 -0.182293 -2.532806  0.736163 -0.166570  0.698099   \n",
      "\n",
      "              V8        V9       V10  ...       V20       V21       V22  \\\n",
      "247376 -0.064277  1.414682  0.852228  ... -0.288500 -0.074767  0.365884   \n",
      "38978  -0.035939  0.340775  0.396577  ... -0.492884 -0.067249  0.359168   \n",
      "160096 -0.159000  1.004586  0.648523  ... -0.470926  0.001778  0.736582   \n",
      "85290  -0.138958  0.265221  0.539664  ...  0.084303 -0.293900 -1.220234   \n",
      "145287 -0.703419  1.493837  0.842067  ... -0.772437  0.750231 -0.223630   \n",
      "\n",
      "             V23       V24       V25       V26       V27       V28    Amount  \n",
      "247376  0.197018  0.069350 -0.553836 -0.391149 -0.179655 -0.200784   6978.19  \n",
      "38978   0.502204 -0.498210 -0.604084  0.751285  0.036550  0.032747   9751.74  \n",
      "160096 -0.067426  0.382841  0.476364 -1.064055 -0.250113 -0.258566   9537.34  \n",
      "85290  -0.055642 -1.410588 -0.138813  1.182936  0.126554  0.487913  12808.46  \n",
      "145287  0.181053 -1.597778 -0.033576  1.185766 -0.336703  0.631185   5063.54  \n",
      "\n",
      "[5 rows x 29 columns]\n",
      "First five elements in y_test are:\n",
      " 247376    0\n",
      "38978     0\n",
      "160096    0\n",
      "85290     0\n",
      "145287    0\n",
      "Name: Class, dtype: int64\n",
      "The shape of X_test is: (113726, 29)\n",
      "The shape of y_test is: (113726,)\n"
     ]
    }
   ],
   "source": [
    "print(\"First five elements in X_test are:\\n\", X_test[:5])\n",
    "print(\"First five elements in y_test are:\\n\", y_test[:5])\n",
    "print ('The shape of X_test is:', X_test.shape)\n",
    "print ('The shape of y_test is:', y_test.shape)"
   ]
  },
  {
   "cell_type": "code",
   "execution_count": 61,
   "id": "aabc4eb5-899a-4871-9961-a3c60bb203b1",
   "metadata": {},
   "outputs": [],
   "source": [
    "# Обучение модели\n",
    "model = LogisticRegression().fit(X_train, y_train)"
   ]
  },
  {
   "cell_type": "code",
   "execution_count": 62,
   "id": "8d9756fb-2e60-4c0a-9817-c9b6a0737251",
   "metadata": {},
   "outputs": [
    {
     "name": "stdout",
     "output_type": "stream",
     "text": [
      "Weights = [-7.49943060e-01  1.04178097e-02 -8.25684722e-01  2.04406817e+00\n",
      "  3.22418170e-01 -9.80688097e-02  5.26584682e-02 -4.13440957e-01\n",
      " -3.48765773e-01 -4.99818022e-01  8.91143191e-01 -1.39013397e+00\n",
      " -1.06052404e-01 -1.54978736e+00 -4.20011404e-02 -1.98989704e-01\n",
      "  3.34266124e-01  8.88851888e-02 -3.25742066e-01 -8.55181606e-02\n",
      "  1.86204977e-01  2.55723281e-01 -6.65595391e-03  5.27414784e-02\n",
      " -8.18192677e-02 -1.10822274e-01  9.16478015e-02  1.06725276e-01\n",
      "  5.25059866e-05]\n",
      "b = [1.1135357]\n"
     ]
    }
   ],
   "source": [
    "# Получаем параметры модели\n",
    "w = model.coef_[0]\n",
    "b = model.intercept_\n",
    "print(f'Weights = {w}')\n",
    "print(f'b = {b}')"
   ]
  },
  {
   "cell_type": "code",
   "execution_count": 64,
   "id": "542f66e5-eb6b-4149-a4e2-994bbfa27643",
   "metadata": {},
   "outputs": [
    {
     "name": "stdout",
     "output_type": "stream",
     "text": [
      "Accuracy: 95.65%\n"
     ]
    }
   ],
   "source": [
    "# Прогнозирование и оценка полеченных результатов\n",
    "y_pred = model.predict(X_test)\n",
    "accuracy = accuracy_score(y_test, y_pred)\n",
    "print(\"Accuracy: {:.2f}%\".format(accuracy * 100))"
   ]
  }
 ],
 "metadata": {
  "kernelspec": {
   "display_name": "Python 3 (ipykernel)",
   "language": "python",
   "name": "python3"
  },
  "language_info": {
   "codemirror_mode": {
    "name": "ipython",
    "version": 3
   },
   "file_extension": ".py",
   "mimetype": "text/x-python",
   "name": "python",
   "nbconvert_exporter": "python",
   "pygments_lexer": "ipython3",
   "version": "3.11.5"
  }
 },
 "nbformat": 4,
 "nbformat_minor": 5
}
